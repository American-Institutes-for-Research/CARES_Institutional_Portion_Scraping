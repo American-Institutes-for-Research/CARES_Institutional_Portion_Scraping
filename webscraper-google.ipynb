{
 "cells": [
  {
   "cell_type": "markdown",
   "metadata": {},
   "source": [
    "# Automate the Grantee Website Monitoring"
   ]
  },
  {
   "cell_type": "code",
   "execution_count": 1,
   "metadata": {},
   "outputs": [],
   "source": [
    "#Load Packages\n",
    "import requests\n",
    "import csv\n",
    "from bs4 import BeautifulSoup\n",
    "from googlesearch import search\n",
    "#from urllib.request import urlopen\n",
    "#from urllib.parse import urljoin\n",
    "import urllib.request\n",
    "import urllib\n",
    "import pathlib\n",
    "from time import sleep\n",
    "import pandas as pd\n",
    "import progressbar\n",
    "import os"
   ]
  },
  {
   "cell_type": "markdown",
   "metadata": {},
   "source": [
    "## Step 1: Initialize data frame"
   ]
  },
  {
   "cell_type": "code",
   "execution_count": 42,
   "metadata": {},
   "outputs": [
    {
     "name": "stdout",
     "output_type": "stream",
     "text": [
      "                          school_name     OPE ID                     Site\n",
      "0                ALASKA BIBLE COLLEGE   884300.0              akbible.edu\n",
      "1               ALASKA CAREER COLLEGE  2541000.0  alaskacareercollege.edu\n",
      "2            ALASKA CHRISTIAN COLLEGE  4138600.0             alaskacc.edu\n",
      "3           ALASKA PACIFIC UNIVERSITY   106100.0        alaskapacific.edu\n",
      "4  ALASKA VOCATIONAL TECHNICAL CENTER        NaN                avtec.edu\n",
      "5                   ILISAGVIK COLLEGE  3461300.0            ilisagvik.edu\n",
      "6      UNIVERSITY OF ALASKA ANCHORAGE        NaN           uaa.alaska.edu\n",
      "7      UNIVERSITY OF ALASKA FAIRBANKS        NaN                  uaf.edu\n",
      "8      UNIVERSITY OF ALASKA SOUTHEAST   106500.0           uas.alaska.edu\n",
      "9              ALABAMA A&M UNIVERSITY        NaN                 aamu.edu\n"
     ]
    }
   ],
   "source": [
    "wd = os.getcwd()\n",
    "\n",
    "# Import list of schools \n",
    "#columnNames = ['School Name', 'Status','Number Active URL', 'Number PDFs', 'Site', 'Google Queried', 'Google Reports Found', 'Reports Downloaded']\n",
    "data = pd.read_csv('./all 5000 statuses.csv') #, names=columnNames)\n",
    "#print(df)\n",
    "df = data[['school_name']]\n",
    "\n",
    "# Extract general school website from URL file and add to data frame\n",
    "# Read in provided URLS\n",
    "file = pd.read_excel('./IHE Student URLS January.xlsm')\n",
    "#raw_url = file['URL']\n",
    "df = df.join(file)\n",
    "\n",
    "# Extract primary component of URL\n",
    "#urldf = pd.DataFrame(file['URL']) #, dtype=\"string\")\n",
    "#df['rawURL'] = raw_url\n",
    "df['shortURL']= df.URL.str.split(\"/\",expand=True)[2]\n",
    "\n",
    "# Remove preceding \"www.\" if present\n",
    "df['Site'] = [str(x).replace('www.','') for x in df['shortURL']]\n",
    "\n",
    "#df = df.set_index('index')\n",
    "df = df[[\"school_name\",\"OPE ID\", \"Site\"]]\n",
    "df = df.head(10)\n",
    "print(df)"
   ]
  },
  {
   "cell_type": "markdown",
   "metadata": {},
   "source": [
    "## Step 2: Search Google for PDFs"
   ]
  },
  {
   "cell_type": "code",
   "execution_count": 45,
   "metadata": {
    "scrolled": true
   },
   "outputs": [
    {
     "data": {
      "text/html": [
       "<div>\n",
       "<style scoped>\n",
       "    .dataframe tbody tr th:only-of-type {\n",
       "        vertical-align: middle;\n",
       "    }\n",
       "\n",
       "    .dataframe tbody tr th {\n",
       "        vertical-align: top;\n",
       "    }\n",
       "\n",
       "    .dataframe thead th {\n",
       "        text-align: right;\n",
       "    }\n",
       "</style>\n",
       "<table border=\"1\" class=\"dataframe\">\n",
       "  <thead>\n",
       "    <tr style=\"text-align: right;\">\n",
       "      <th></th>\n",
       "      <th>school_name</th>\n",
       "      <th>OPE ID</th>\n",
       "      <th>Site</th>\n",
       "      <th>Query</th>\n",
       "      <th>Google Queried</th>\n",
       "      <th>Results</th>\n",
       "      <th>Number of Results</th>\n",
       "    </tr>\n",
       "  </thead>\n",
       "  <tbody>\n",
       "    <tr>\n",
       "      <th>0</th>\n",
       "      <td>ALASKA BIBLE COLLEGE</td>\n",
       "      <td>884300.0</td>\n",
       "      <td>akbible.edu</td>\n",
       "      <td>\"Institutional Portion\" HEERF filetype:pdf sit...</td>\n",
       "      <td>Y</td>\n",
       "      <td>[https://www.akbible.edu/wp-content/uploads/20...</td>\n",
       "      <td>1</td>\n",
       "    </tr>\n",
       "    <tr>\n",
       "      <th>1</th>\n",
       "      <td>ALASKA CAREER COLLEGE</td>\n",
       "      <td>2541000.0</td>\n",
       "      <td>alaskacareercollege.edu</td>\n",
       "      <td>\"Institutional Portion\" HEERF filetype:pdf sit...</td>\n",
       "      <td>Y</td>\n",
       "      <td>[https://www.alaskacareercollege.edu/uploads/d...</td>\n",
       "      <td>3</td>\n",
       "    </tr>\n",
       "    <tr>\n",
       "      <th>2</th>\n",
       "      <td>ALASKA CHRISTIAN COLLEGE</td>\n",
       "      <td>4138600.0</td>\n",
       "      <td>alaskacc.edu</td>\n",
       "      <td>\"Institutional Portion\" HEERF filetype:pdf sit...</td>\n",
       "      <td>Y</td>\n",
       "      <td>[https://alaskacc.edu/wp-content/uploads/2021/...</td>\n",
       "      <td>1</td>\n",
       "    </tr>\n",
       "    <tr>\n",
       "      <th>3</th>\n",
       "      <td>ALASKA PACIFIC UNIVERSITY</td>\n",
       "      <td>106100.0</td>\n",
       "      <td>alaskapacific.edu</td>\n",
       "      <td>\"Institutional Portion\" HEERF filetype:pdf sit...</td>\n",
       "      <td>Y</td>\n",
       "      <td>[https://www.alaskapacific.edu/wp-content/uplo...</td>\n",
       "      <td>1</td>\n",
       "    </tr>\n",
       "    <tr>\n",
       "      <th>4</th>\n",
       "      <td>ALASKA VOCATIONAL TECHNICAL CENTER</td>\n",
       "      <td>NaN</td>\n",
       "      <td>avtec.edu</td>\n",
       "      <td>\"Institutional Portion\" HEERF filetype:pdf sit...</td>\n",
       "      <td>Y</td>\n",
       "      <td>[https://avtec.edu/sites/default/files/2021-07...</td>\n",
       "      <td>2</td>\n",
       "    </tr>\n",
       "  </tbody>\n",
       "</table>\n",
       "</div>"
      ],
      "text/plain": [
       "                          school_name     OPE ID                     Site  \\\n",
       "0                ALASKA BIBLE COLLEGE   884300.0              akbible.edu   \n",
       "1               ALASKA CAREER COLLEGE  2541000.0  alaskacareercollege.edu   \n",
       "2            ALASKA CHRISTIAN COLLEGE  4138600.0             alaskacc.edu   \n",
       "3           ALASKA PACIFIC UNIVERSITY   106100.0        alaskapacific.edu   \n",
       "4  ALASKA VOCATIONAL TECHNICAL CENTER        NaN                avtec.edu   \n",
       "\n",
       "                                               Query Google Queried  \\\n",
       "0  \"Institutional Portion\" HEERF filetype:pdf sit...              Y   \n",
       "1  \"Institutional Portion\" HEERF filetype:pdf sit...              Y   \n",
       "2  \"Institutional Portion\" HEERF filetype:pdf sit...              Y   \n",
       "3  \"Institutional Portion\" HEERF filetype:pdf sit...              Y   \n",
       "4  \"Institutional Portion\" HEERF filetype:pdf sit...              Y   \n",
       "\n",
       "                                             Results  Number of Results  \n",
       "0  [https://www.akbible.edu/wp-content/uploads/20...                  1  \n",
       "1  [https://www.alaskacareercollege.edu/uploads/d...                  3  \n",
       "2  [https://alaskacc.edu/wp-content/uploads/2021/...                  1  \n",
       "3  [https://www.alaskapacific.edu/wp-content/uplo...                  1  \n",
       "4  [https://avtec.edu/sites/default/files/2021-07...                  2  "
      ]
     },
     "execution_count": 45,
     "metadata": {},
     "output_type": "execute_result"
    }
   ],
   "source": [
    "# EXAMPLE query = \" \\\"Institutional Portion\\\" HEERF filetype:pdf site:franu.edu\"\n",
    "df['Query'] = df['Site'].apply(lambda x: \"\\\"Institutional Portion\\\" HEERF filetype:pdf site:\" + x)\n",
    "\n",
    "def google_search(siteStr):\n",
    "    results = []\n",
    "    query = \"\\\"Institutional Portion\\\" HEERF filetype:pdf site:\" + siteStr\n",
    "    df['Google Queried'] = 'Y' \n",
    "    for j in search(query, tld=\"co.in\", num=10, stop = None, pause = 4):\n",
    "        #count = count + 1\n",
    "        #print(j)\n",
    "        results.append(j)\n",
    "        count = len(results)\n",
    "    return results\n",
    "\n",
    "df['Results'] = df['Site'].apply(lambda x: google_search(x))\n",
    "df['Number of Results'] = df['Results'].str.len()\n",
    "\n",
    "df.head()"
   ]
  },
  {
   "cell_type": "code",
   "execution_count": 85,
   "metadata": {},
   "outputs": [
    {
     "name": "stdout",
     "output_type": "stream",
     "text": [
      "['https://www.akbible.edu/wp-content/uploads/2020/10/heerf-quarterly-reporting-v131-1.pdf']\n"
     ]
    }
   ],
   "source": [
    "df.Results.dtypes\n",
    "y = df.Results.values\n",
    "print(y[0])"
   ]
  },
  {
   "cell_type": "markdown",
   "metadata": {},
   "source": [
    "## Step 3: Download PDFs and save in local folder"
   ]
  },
  {
   "cell_type": "code",
   "execution_count": null,
   "metadata": {},
   "outputs": [],
   "source": [
    "#urllib.request.urlretrieve(url, \"test.pdf\")\n",
    "def makedirectory(name):\n",
    "    try:\n",
    "        os.makedirs(name)\n",
    "    except OSError:\n",
    "        pass\n",
    "    os.chdir(wd)\n",
    "    \n",
    "def downloadReports(name):\n",
    "    print(name)\n",
    "    #name=str(name)\n",
    "    os.chdir(name)\n",
    "    url_list = df.loc[df.school_name == name]['Results'].values\n",
    "    #print(url_list)\n",
    "    imax = len(url_list) - 1\n",
    "    for i in (0,imax):\n",
    "        url = url_list.values\n",
    "        print(url)\n",
    "        filename = \"test\" + str(i) + \".pdf\"\n",
    "        # use the pdf name \"Quarterly Grand Reporting\" XXX_1\n",
    "        urllib.request.urlretrieve(url, filename)\n",
    "    os.chdir(wd)\n",
    "\n",
    "df['school_name'].apply(makedirectory)\n",
    "#df['school_name'].apply(downloadReports)\n",
    "os.chdir(wd)\n",
    "\n",
    "#print(url_list)\n",
    "#print(url)"
   ]
  },
  {
   "cell_type": "code",
   "execution_count": 91,
   "metadata": {},
   "outputs": [
    {
     "name": "stdout",
     "output_type": "stream",
     "text": [
      "https://avtec.edu/sites/default/files/2021-07/Quarterly%20Grant%20Reporting%206-30-2021_1.pdf\n",
      "https://avtec.edu/sites/default/files/2021-04/Quarterly%20Grant%20Reporting%203-31-2021.pdf\n"
     ]
    }
   ],
   "source": [
    "df.head()\n",
    "name = \"ALASKA VOCATIONAL TECHNICAL CENTER\"\n",
    "url_list = df.loc[df.school_name == name]['Results'].values\n",
    "for url in url_list[0]:\n",
    "    urllib.request.urlretrieve(url,  \"test.pdf\")\n",
    "    print(url)"
   ]
  },
  {
   "cell_type": "code",
   "execution_count": null,
   "metadata": {},
   "outputs": [],
   "source": [
    "os.chdir(wd)\n",
    "cwd = os.getcwd()\n",
    "print(cwd)"
   ]
  },
  {
   "cell_type": "code",
   "execution_count": null,
   "metadata": {},
   "outputs": [],
   "source": [
    "name = df['school_name'][0]\n",
    "#temp = df.query(\"school_name = name\")\n",
    "temp = df.loc[df.school_name == name]['Results']\n",
    "print(temp)"
   ]
  },
  {
   "cell_type": "code",
   "execution_count": null,
   "metadata": {},
   "outputs": [],
   "source": []
  }
 ],
 "metadata": {
  "kernelspec": {
   "display_name": "Python 3",
   "language": "python",
   "name": "python3"
  },
  "language_info": {
   "codemirror_mode": {
    "name": "ipython",
    "version": 3
   },
   "file_extension": ".py",
   "mimetype": "text/x-python",
   "name": "python",
   "nbconvert_exporter": "python",
   "pygments_lexer": "ipython3",
   "version": "3.8.8"
  }
 },
 "nbformat": 4,
 "nbformat_minor": 4
}
